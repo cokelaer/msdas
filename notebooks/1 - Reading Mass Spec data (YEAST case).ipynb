{
 "metadata": {
  "name": "",
  "signature": "sha256:5e4f2ef9e871ed7aebef4f209a3740a3d9d98eb648da2f20b891e92960603565"
 },
 "nbformat": 3,
 "nbformat_minor": 0,
 "worksheets": [
  {
   "cells": [
    {
     "cell_type": "markdown",
     "metadata": {},
     "source": [
      "<h1>Reading Mass Spec data files</h1>\n",
      "<p>You can read several files at the same time using the merger module. But for now, we will read only a single file.\n",
      "</p>\n",
      "\n",
      "<p>Reading a CSV file and get descriptive information about the mass spec data using  the\n",
      "module msdas.readers.MassSpecReader</p>"
     ]
    },
    {
     "cell_type": "code",
     "collapsed": false,
     "input": [
      "from msdas import *\n",
      "from msdas import yeast\n",
      "%pylab inline\n"
     ],
     "language": "python",
     "metadata": {},
     "outputs": [
      {
       "output_type": "stream",
       "stream": "stdout",
       "text": [
        "Couldn't import dot_parser, loading of dot files will not be possible.\n",
        "Populating the interactive namespace from numpy and matplotlib"
       ]
      },
      {
       "output_type": "stream",
       "stream": "stdout",
       "text": [
        "\n"
       ]
      }
     ],
     "prompt_number": 1
    },
    {
     "cell_type": "markdown",
     "metadata": {},
     "source": [
      "Here are some files to play with. These are 6 files that should be merger. However, we can read them one by one for demonstration."
     ]
    },
    {
     "cell_type": "heading",
     "level": 2,
     "metadata": {},
     "source": [
      "Reading the data (36 columns of experiments + 7 of metadata)"
     ]
    },
    {
     "cell_type": "code",
     "collapsed": false,
     "input": [
      "y = MassSpecReader(yeast.get_yeast_small_data())"
     ],
     "language": "python",
     "metadata": {},
     "outputs": [
      {
       "output_type": "stream",
       "stream": "stderr",
       "text": [
        "INFO:root:Reading /home/cokelaer/Work/github/msdas/share/data/YEAST_small_all.csv\n"
       ]
      },
      {
       "output_type": "stream",
       "stream": "stderr",
       "text": [
        "INFO:root:Renaming psites with ^ character\n"
       ]
      },
      {
       "output_type": "stream",
       "stream": "stderr",
       "text": [
        "INFO:root:Replacing zeros with NAs\n"
       ]
      },
      {
       "output_type": "stream",
       "stream": "stderr",
       "text": [
        "INFO:root:-- Removing 0 rows with ambigous protein names:\n"
       ]
      },
      {
       "output_type": "stream",
       "stream": "stderr",
       "text": [
        "INFO:root:--------------------------------------------------\n"
       ]
      },
      {
       "output_type": "stream",
       "stream": "stderr",
       "text": [
        "WARNING:root:Rebuilding identifier in the dataframe. MERGED prefixes will be lost\n"
       ]
      }
     ],
     "prompt_number": 2
    },
    {
     "cell_type": "markdown",
     "metadata": {},
     "source": [
      "<p>Calling the print function allows to get some basic information about the number of rows/protein/peptides<p>"
     ]
    },
    {
     "cell_type": "code",
     "collapsed": false,
     "input": [
      "print(y)"
     ],
     "language": "python",
     "metadata": {},
     "outputs": [
      {
       "output_type": "stream",
       "stream": "stdout",
       "text": [
        "This dataframe contains 40 columns in addition to the standard columns Protein,\n",
        "Sequence, Psite\n",
        "Your data contains 23 unique proteins\n",
        "Your data contains 57 combination of psites/proteins\n",
        "\n"
       ]
      }
     ],
     "prompt_number": 3
    },
    {
     "cell_type": "markdown",
     "metadata": {},
     "source": [
      "The data is contained in the data frame called <b>df</b>. Aliasese (read-only) to the\n",
      "measurements only, or to the metadata only are available in the dataframs called <strong>measurements</strong>\n",
      "and <strong>metadata</strong> respectively."
     ]
    },
    {
     "cell_type": "code",
     "collapsed": false,
     "input": [
      "y.df.ix[[0,1,2]]"
     ],
     "language": "python",
     "metadata": {},
     "outputs": [
      {
       "html": [
        "<div style=\"max-height:1000px;max-width:1500px;overflow:auto;\">\n",
        "<table border=\"1\" class=\"dataframe\">\n",
        "  <thead>\n",
        "    <tr style=\"text-align: right;\">\n",
        "      <th></th>\n",
        "      <th>Protein</th>\n",
        "      <th>Sequence</th>\n",
        "      <th>Psite</th>\n",
        "      <th>Sequence_Phospho</th>\n",
        "      <th>a0_t0</th>\n",
        "      <th>a0_t1</th>\n",
        "      <th>a0_t5</th>\n",
        "      <th>a0_t10</th>\n",
        "      <th>a0_t20</th>\n",
        "      <th>a0_t45</th>\n",
        "      <th>...</th>\n",
        "      <th>a20_t45</th>\n",
        "      <th>a45_t0</th>\n",
        "      <th>a45_t1</th>\n",
        "      <th>a45_t5</th>\n",
        "      <th>a45_t10</th>\n",
        "      <th>a45_t20</th>\n",
        "      <th>a45_t45</th>\n",
        "      <th>Entry</th>\n",
        "      <th>Entry_name</th>\n",
        "      <th>Identifier</th>\n",
        "    </tr>\n",
        "  </thead>\n",
        "  <tbody>\n",
        "    <tr>\n",
        "      <th>0</th>\n",
        "      <td>DIG1</td>\n",
        "      <td>DGNLASSNSAHFPPVANQNVK</td>\n",
        "      <td>S126+S127</td>\n",
        "      <td>DGNLAS(Phospho)SNSAHFPPVANQNVK</td>\n",
        "      <td>0.000415</td>\n",
        "      <td>0.000397</td>\n",
        "      <td>0.000671</td>\n",
        "      <td>0.000602</td>\n",
        "      <td>0.000440</td>\n",
        "      <td>0.000418</td>\n",
        "      <td>...</td>\n",
        "      <td>0.001009</td>\n",
        "      <td>0.000289</td>\n",
        "      <td>0.000300</td>\n",
        "      <td>0.000270</td>\n",
        "      <td>0.000358</td>\n",
        "      <td>0.000367</td>\n",
        "      <td>0.000313</td>\n",
        "      <td>Q03063</td>\n",
        "      <td>DIG1_YEAST</td>\n",
        "      <td>DIG1_S126+S127</td>\n",
        "    </tr>\n",
        "    <tr>\n",
        "      <th>1</th>\n",
        "      <td>DIG1</td>\n",
        "      <td>SAPAQVTQHSK</td>\n",
        "      <td>S142</td>\n",
        "      <td>S(Phospho)APAQVTQHSK</td>\n",
        "      <td>0.000187</td>\n",
        "      <td>0.000185</td>\n",
        "      <td>0.000267</td>\n",
        "      <td>0.000202</td>\n",
        "      <td>0.000138</td>\n",
        "      <td>0.000226</td>\n",
        "      <td>...</td>\n",
        "      <td>0.001241</td>\n",
        "      <td>0.001144</td>\n",
        "      <td>0.001364</td>\n",
        "      <td>0.001237</td>\n",
        "      <td>0.001091</td>\n",
        "      <td>0.001425</td>\n",
        "      <td>0.001707</td>\n",
        "      <td>Q03063</td>\n",
        "      <td>DIG1_YEAST</td>\n",
        "      <td>DIG1_S142</td>\n",
        "    </tr>\n",
        "    <tr>\n",
        "      <th>2</th>\n",
        "      <td>DIG1</td>\n",
        "      <td>VNDSYDSPLSGTASTGK</td>\n",
        "      <td>S272</td>\n",
        "      <td>VNDSYDS(Phospho)PLSGTASTGK</td>\n",
        "      <td>0.000338</td>\n",
        "      <td>0.000330</td>\n",
        "      <td>0.000538</td>\n",
        "      <td>0.000505</td>\n",
        "      <td>0.000381</td>\n",
        "      <td>0.000328</td>\n",
        "      <td>...</td>\n",
        "      <td>0.000232</td>\n",
        "      <td>0.000178</td>\n",
        "      <td>0.000208</td>\n",
        "      <td>0.000122</td>\n",
        "      <td>0.000212</td>\n",
        "      <td>0.000203</td>\n",
        "      <td>0.000221</td>\n",
        "      <td>Q03063</td>\n",
        "      <td>DIG1_YEAST</td>\n",
        "      <td>DIG1_S272</td>\n",
        "    </tr>\n",
        "  </tbody>\n",
        "</table>\n",
        "<p>3 rows \u00d7 43 columns</p>\n",
        "</div>"
       ],
       "metadata": {},
       "output_type": "pyout",
       "prompt_number": 4,
       "text": [
        "  Protein               Sequence      Psite                Sequence_Phospho  \\\n",
        "0    DIG1  DGNLASSNSAHFPPVANQNVK  S126+S127  DGNLAS(Phospho)SNSAHFPPVANQNVK   \n",
        "1    DIG1            SAPAQVTQHSK       S142            S(Phospho)APAQVTQHSK   \n",
        "2    DIG1      VNDSYDSPLSGTASTGK       S272      VNDSYDS(Phospho)PLSGTASTGK   \n",
        "\n",
        "      a0_t0     a0_t1     a0_t5    a0_t10    a0_t20    a0_t45       ...        \\\n",
        "0  0.000415  0.000397  0.000671  0.000602  0.000440  0.000418       ...         \n",
        "1  0.000187  0.000185  0.000267  0.000202  0.000138  0.000226       ...         \n",
        "2  0.000338  0.000330  0.000538  0.000505  0.000381  0.000328       ...         \n",
        "\n",
        "    a20_t45    a45_t0    a45_t1    a45_t5   a45_t10   a45_t20   a45_t45  \\\n",
        "0  0.001009  0.000289  0.000300  0.000270  0.000358  0.000367  0.000313   \n",
        "1  0.001241  0.001144  0.001364  0.001237  0.001091  0.001425  0.001707   \n",
        "2  0.000232  0.000178  0.000208  0.000122  0.000212  0.000203  0.000221   \n",
        "\n",
        "    Entry  Entry_name      Identifier  \n",
        "0  Q03063  DIG1_YEAST  DIG1_S126+S127  \n",
        "1  Q03063  DIG1_YEAST       DIG1_S142  \n",
        "2  Q03063  DIG1_YEAST       DIG1_S272  \n",
        "\n",
        "[3 rows x 43 columns]"
       ]
      }
     ],
     "prompt_number": 4
    },
    {
     "cell_type": "code",
     "collapsed": false,
     "input": [
      "y.measurements.ix[[0,1,2]]"
     ],
     "language": "python",
     "metadata": {},
     "outputs": [
      {
       "html": [
        "<div style=\"max-height:1000px;max-width:1500px;overflow:auto;\">\n",
        "<table border=\"1\" class=\"dataframe\">\n",
        "  <thead>\n",
        "    <tr style=\"text-align: right;\">\n",
        "      <th></th>\n",
        "      <th>a0_t0</th>\n",
        "      <th>a0_t1</th>\n",
        "      <th>a0_t5</th>\n",
        "      <th>a0_t10</th>\n",
        "      <th>a0_t20</th>\n",
        "      <th>a0_t45</th>\n",
        "      <th>a1_t0</th>\n",
        "      <th>a1_t1</th>\n",
        "      <th>a1_t5</th>\n",
        "      <th>a1_t10</th>\n",
        "      <th>...</th>\n",
        "      <th>a20_t5</th>\n",
        "      <th>a20_t10</th>\n",
        "      <th>a20_t20</th>\n",
        "      <th>a20_t45</th>\n",
        "      <th>a45_t0</th>\n",
        "      <th>a45_t1</th>\n",
        "      <th>a45_t5</th>\n",
        "      <th>a45_t10</th>\n",
        "      <th>a45_t20</th>\n",
        "      <th>a45_t45</th>\n",
        "    </tr>\n",
        "  </thead>\n",
        "  <tbody>\n",
        "    <tr>\n",
        "      <th>0</th>\n",
        "      <td>0.000415</td>\n",
        "      <td>0.000397</td>\n",
        "      <td>0.000671</td>\n",
        "      <td>0.000602</td>\n",
        "      <td>0.000440</td>\n",
        "      <td>0.000418</td>\n",
        "      <td>0.001416</td>\n",
        "      <td>0.001090</td>\n",
        "      <td>0.000775</td>\n",
        "      <td>0.000668</td>\n",
        "      <td>...</td>\n",
        "      <td>0.001149</td>\n",
        "      <td>0.000917</td>\n",
        "      <td>0.000902</td>\n",
        "      <td>0.001009</td>\n",
        "      <td>0.000289</td>\n",
        "      <td>0.000300</td>\n",
        "      <td>0.000270</td>\n",
        "      <td>0.000358</td>\n",
        "      <td>0.000367</td>\n",
        "      <td>0.000313</td>\n",
        "    </tr>\n",
        "    <tr>\n",
        "      <th>1</th>\n",
        "      <td>0.000187</td>\n",
        "      <td>0.000185</td>\n",
        "      <td>0.000267</td>\n",
        "      <td>0.000202</td>\n",
        "      <td>0.000138</td>\n",
        "      <td>0.000226</td>\n",
        "      <td>0.000177</td>\n",
        "      <td>0.000162</td>\n",
        "      <td>0.000136</td>\n",
        "      <td>0.000142</td>\n",
        "      <td>...</td>\n",
        "      <td>0.001135</td>\n",
        "      <td>0.000899</td>\n",
        "      <td>0.001064</td>\n",
        "      <td>0.001241</td>\n",
        "      <td>0.001144</td>\n",
        "      <td>0.001364</td>\n",
        "      <td>0.001237</td>\n",
        "      <td>0.001091</td>\n",
        "      <td>0.001425</td>\n",
        "      <td>0.001707</td>\n",
        "    </tr>\n",
        "    <tr>\n",
        "      <th>2</th>\n",
        "      <td>0.000338</td>\n",
        "      <td>0.000330</td>\n",
        "      <td>0.000538</td>\n",
        "      <td>0.000505</td>\n",
        "      <td>0.000381</td>\n",
        "      <td>0.000328</td>\n",
        "      <td>0.000367</td>\n",
        "      <td>0.000379</td>\n",
        "      <td>0.000330</td>\n",
        "      <td>0.000372</td>\n",
        "      <td>...</td>\n",
        "      <td>0.000349</td>\n",
        "      <td>0.000319</td>\n",
        "      <td>0.000314</td>\n",
        "      <td>0.000232</td>\n",
        "      <td>0.000178</td>\n",
        "      <td>0.000208</td>\n",
        "      <td>0.000122</td>\n",
        "      <td>0.000212</td>\n",
        "      <td>0.000203</td>\n",
        "      <td>0.000221</td>\n",
        "    </tr>\n",
        "  </tbody>\n",
        "</table>\n",
        "<p>3 rows \u00d7 36 columns</p>\n",
        "</div>"
       ],
       "metadata": {},
       "output_type": "pyout",
       "prompt_number": 5,
       "text": [
        "      a0_t0     a0_t1     a0_t5    a0_t10    a0_t20    a0_t45     a1_t0  \\\n",
        "0  0.000415  0.000397  0.000671  0.000602  0.000440  0.000418  0.001416   \n",
        "1  0.000187  0.000185  0.000267  0.000202  0.000138  0.000226  0.000177   \n",
        "2  0.000338  0.000330  0.000538  0.000505  0.000381  0.000328  0.000367   \n",
        "\n",
        "      a1_t1     a1_t5    a1_t10    ...       a20_t5   a20_t10   a20_t20  \\\n",
        "0  0.001090  0.000775  0.000668    ...     0.001149  0.000917  0.000902   \n",
        "1  0.000162  0.000136  0.000142    ...     0.001135  0.000899  0.001064   \n",
        "2  0.000379  0.000330  0.000372    ...     0.000349  0.000319  0.000314   \n",
        "\n",
        "    a20_t45    a45_t0    a45_t1    a45_t5   a45_t10   a45_t20   a45_t45  \n",
        "0  0.001009  0.000289  0.000300  0.000270  0.000358  0.000367  0.000313  \n",
        "1  0.001241  0.001144  0.001364  0.001237  0.001091  0.001425  0.001707  \n",
        "2  0.000232  0.000178  0.000208  0.000122  0.000212  0.000203  0.000221  \n",
        "\n",
        "[3 rows x 36 columns]"
       ]
      }
     ],
     "prompt_number": 5
    },
    {
     "cell_type": "code",
     "collapsed": false,
     "input": [
      "y.metadata.ix[[0,1,2]]"
     ],
     "language": "python",
     "metadata": {},
     "outputs": [
      {
       "html": [
        "<div style=\"max-height:1000px;max-width:1500px;overflow:auto;\">\n",
        "<table border=\"1\" class=\"dataframe\">\n",
        "  <thead>\n",
        "    <tr style=\"text-align: right;\">\n",
        "      <th></th>\n",
        "      <th>Identifier</th>\n",
        "      <th>Protein</th>\n",
        "      <th>Sequence</th>\n",
        "      <th>Sequence_Phospho</th>\n",
        "      <th>Psite</th>\n",
        "      <th>Entry</th>\n",
        "      <th>Entry_name</th>\n",
        "    </tr>\n",
        "  </thead>\n",
        "  <tbody>\n",
        "    <tr>\n",
        "      <th>0</th>\n",
        "      <td>DIG1_S126+S127</td>\n",
        "      <td>DIG1</td>\n",
        "      <td>DGNLASSNSAHFPPVANQNVK</td>\n",
        "      <td>DGNLAS(Phospho)SNSAHFPPVANQNVK</td>\n",
        "      <td>S126+S127</td>\n",
        "      <td>Q03063</td>\n",
        "      <td>DIG1_YEAST</td>\n",
        "    </tr>\n",
        "    <tr>\n",
        "      <th>1</th>\n",
        "      <td>DIG1_S142</td>\n",
        "      <td>DIG1</td>\n",
        "      <td>SAPAQVTQHSK</td>\n",
        "      <td>S(Phospho)APAQVTQHSK</td>\n",
        "      <td>S142</td>\n",
        "      <td>Q03063</td>\n",
        "      <td>DIG1_YEAST</td>\n",
        "    </tr>\n",
        "    <tr>\n",
        "      <th>2</th>\n",
        "      <td>DIG1_S272</td>\n",
        "      <td>DIG1</td>\n",
        "      <td>VNDSYDSPLSGTASTGK</td>\n",
        "      <td>VNDSYDS(Phospho)PLSGTASTGK</td>\n",
        "      <td>S272</td>\n",
        "      <td>Q03063</td>\n",
        "      <td>DIG1_YEAST</td>\n",
        "    </tr>\n",
        "  </tbody>\n",
        "</table>\n",
        "</div>"
       ],
       "metadata": {},
       "output_type": "pyout",
       "prompt_number": 6,
       "text": [
        "       Identifier Protein               Sequence  \\\n",
        "0  DIG1_S126+S127    DIG1  DGNLASSNSAHFPPVANQNVK   \n",
        "1       DIG1_S142    DIG1            SAPAQVTQHSK   \n",
        "2       DIG1_S272    DIG1      VNDSYDSPLSGTASTGK   \n",
        "\n",
        "                 Sequence_Phospho      Psite   Entry  Entry_name  \n",
        "0  DGNLAS(Phospho)SNSAHFPPVANQNVK  S126+S127  Q03063  DIG1_YEAST  \n",
        "1            S(Phospho)APAQVTQHSK       S142  Q03063  DIG1_YEAST  \n",
        "2      VNDSYDS(Phospho)PLSGTASTGK       S272  Q03063  DIG1_YEAST  "
       ]
      }
     ],
     "prompt_number": 6
    },
    {
     "cell_type": "heading",
     "level": 2,
     "metadata": {},
     "source": [
      "Statistics about Phospho sites"
     ]
    },
    {
     "cell_type": "code",
     "collapsed": false,
     "input": [
      "y.plot_phospho_stats()"
     ],
     "language": "python",
     "metadata": {},
     "outputs": [
      {
       "metadata": {},
       "output_type": "display_data",
       "png": "[encoded data removed]",
       "text": [
        "<matplotlib.figure.Figure at 0x566bad0>"
       ]
      },
      {
       "metadata": {},
       "output_type": "display_data",
       "png": "[encoded data removed]",
       "text": [
        "<matplotlib.figure.Figure at 0x5746650>"
       ]
      },
      {
       "metadata": {},
       "output_type": "display_data",
       "png": "[encoded data removed]",
       "text": [
        "<matplotlib.figure.Figure at 0x58e2bd0>"
       ]
      }
     ],
     "prompt_number": 7
    },
    {
     "cell_type": "heading",
     "level": 2,
     "metadata": {},
     "source": [
      "Histogram peptide length"
     ]
    },
    {
     "cell_type": "code",
     "collapsed": false,
     "input": [
      "y.hist_peptide_sequence_length()"
     ],
     "language": "python",
     "metadata": {},
     "outputs": [
      {
       "metadata": {},
       "output_type": "display_data",
       "png": "[encoded data removed]",
       "text": [
        "<matplotlib.figure.Figure at 0x5d16910>"
       ]
      }
     ],
     "prompt_number": 8
    },
    {
     "cell_type": "heading",
     "level": 2,
     "metadata": {},
     "source": [
      "Visulalisation variation in each experiment"
     ]
    },
    {
     "cell_type": "code",
     "collapsed": false,
     "input": [
      "y.boxplot() # variation in each experiment"
     ],
     "language": "python",
     "metadata": {},
     "outputs": [
      {
       "output_type": "stream",
       "stream": "stderr",
       "text": [
        "/home/cokelaer/Work/virtualenv/lib64/python2.7/site-packages/pandas/tools/plotting.py:2633: FutureWarning: \n",
        "The default value for 'return_type' will change to 'axes' in a future release.\n",
        " To use the future behavior now, set return_type='axes'.\n",
        " To keep the previous behavior and silence this warning, set return_type='dict'.\n",
        "  warnings.warn(msg, FutureWarning)\n"
       ]
      },
      {
       "metadata": {},
       "output_type": "display_data",
       "png": "[encoded data removed]",
       "text": [
        "<matplotlib.figure.Figure at 0x5efebd0>"
       ]
      }
     ],
     "prompt_number": 9
    },
    {
     "cell_type": "heading",
     "level": 2,
     "metadata": {},
     "source": [
      "Visualise data as a \"time series\""
     ]
    },
    {
     "cell_type": "code",
     "collapsed": false,
     "input": [
      "y.plot_timeseries('DIG1_S272')"
     ],
     "language": "python",
     "metadata": {},
     "outputs": [
      {
       "html": [
        "<div style=\"max-height:1000px;max-width:1500px;overflow:auto;\">\n",
        "<table border=\"1\" class=\"dataframe\">\n",
        "  <thead>\n",
        "    <tr style=\"text-align: right;\">\n",
        "      <th></th>\n",
        "      <th>a0_t0</th>\n",
        "      <th>a0_t1</th>\n",
        "      <th>a0_t5</th>\n",
        "      <th>a0_t10</th>\n",
        "      <th>a0_t20</th>\n",
        "      <th>a0_t45</th>\n",
        "      <th>a1_t0</th>\n",
        "      <th>a1_t1</th>\n",
        "      <th>a1_t5</th>\n",
        "      <th>a1_t10</th>\n",
        "      <th>...</th>\n",
        "      <th>a20_t5</th>\n",
        "      <th>a20_t10</th>\n",
        "      <th>a20_t20</th>\n",
        "      <th>a20_t45</th>\n",
        "      <th>a45_t0</th>\n",
        "      <th>a45_t1</th>\n",
        "      <th>a45_t5</th>\n",
        "      <th>a45_t10</th>\n",
        "      <th>a45_t20</th>\n",
        "      <th>a45_t45</th>\n",
        "    </tr>\n",
        "  </thead>\n",
        "  <tbody>\n",
        "    <tr>\n",
        "      <th>2</th>\n",
        "      <td>0.000338</td>\n",
        "      <td>0.00033</td>\n",
        "      <td>0.000538</td>\n",
        "      <td>0.000505</td>\n",
        "      <td>0.000381</td>\n",
        "      <td>0.000328</td>\n",
        "      <td>0.000367</td>\n",
        "      <td>0.000379</td>\n",
        "      <td>0.00033</td>\n",
        "      <td>0.000372</td>\n",
        "      <td>...</td>\n",
        "      <td>0.000349</td>\n",
        "      <td>0.000319</td>\n",
        "      <td>0.000314</td>\n",
        "      <td>0.000232</td>\n",
        "      <td>0.000178</td>\n",
        "      <td>0.000208</td>\n",
        "      <td>0.000122</td>\n",
        "      <td>0.000212</td>\n",
        "      <td>0.000203</td>\n",
        "      <td>0.000221</td>\n",
        "    </tr>\n",
        "  </tbody>\n",
        "</table>\n",
        "<p>1 rows \u00d7 36 columns</p>\n",
        "</div>"
       ],
       "metadata": {},
       "output_type": "pyout",
       "prompt_number": 10,
       "text": [
        "      a0_t0    a0_t1     a0_t5    a0_t10    a0_t20    a0_t45     a1_t0  \\\n",
        "2  0.000338  0.00033  0.000538  0.000505  0.000381  0.000328  0.000367   \n",
        "\n",
        "      a1_t1    a1_t5    a1_t10    ...       a20_t5   a20_t10   a20_t20  \\\n",
        "2  0.000379  0.00033  0.000372    ...     0.000349  0.000319  0.000314   \n",
        "\n",
        "    a20_t45    a45_t0    a45_t1    a45_t5   a45_t10   a45_t20   a45_t45  \n",
        "2  0.000232  0.000178  0.000208  0.000122  0.000212  0.000203  0.000221  \n",
        "\n",
        "[1 rows x 36 columns]"
       ]
      },
      {
       "metadata": {},
       "output_type": "display_data",
       "png": "[encoded data removed]",
       "text": [
        "<matplotlib.figure.Figure at 0x6db2a50>"
       ]
      }
     ],
     "prompt_number": 10
    },
    {
     "cell_type": "heading",
     "level": 2,
     "metadata": {},
     "source": [
      "Visualise data in a 6 by 6 image (YEAST case only)"
     ]
    },
    {
     "cell_type": "code",
     "collapsed": false,
     "input": [
      "y.plot_experiments(\"DIG1_S272\")"
     ],
     "language": "python",
     "metadata": {},
     "outputs": [
      {
       "output_type": "stream",
       "stream": "stderr",
       "text": [
        "WARNING:root:Works with yeast data set only\n"
       ]
      },
      {
       "html": [
        "<div style=\"max-height:1000px;max-width:1500px;overflow:auto;\">\n",
        "<table border=\"1\" class=\"dataframe\">\n",
        "  <thead>\n",
        "    <tr style=\"text-align: right;\">\n",
        "      <th></th>\n",
        "      <th>0</th>\n",
        "      <th>1</th>\n",
        "      <th>2</th>\n",
        "      <th>3</th>\n",
        "      <th>4</th>\n",
        "      <th>5</th>\n",
        "    </tr>\n",
        "  </thead>\n",
        "  <tbody>\n",
        "    <tr>\n",
        "      <th>a0</th>\n",
        "      <td>0.000338</td>\n",
        "      <td>0.000330</td>\n",
        "      <td>0.000538</td>\n",
        "      <td>0.000505</td>\n",
        "      <td>0.000381</td>\n",
        "      <td>0.000328</td>\n",
        "    </tr>\n",
        "    <tr>\n",
        "      <th>a1</th>\n",
        "      <td>0.000367</td>\n",
        "      <td>0.000379</td>\n",
        "      <td>0.000330</td>\n",
        "      <td>0.000372</td>\n",
        "      <td>0.000415</td>\n",
        "      <td>0.000270</td>\n",
        "    </tr>\n",
        "    <tr>\n",
        "      <th>a5</th>\n",
        "      <td>0.000505</td>\n",
        "      <td>0.000465</td>\n",
        "      <td>0.000502</td>\n",
        "      <td>0.000473</td>\n",
        "      <td>0.000418</td>\n",
        "      <td>0.000493</td>\n",
        "    </tr>\n",
        "    <tr>\n",
        "      <th>a10</th>\n",
        "      <td>0.000521</td>\n",
        "      <td>0.000550</td>\n",
        "      <td>0.000538</td>\n",
        "      <td>0.000629</td>\n",
        "      <td>0.000478</td>\n",
        "      <td>0.000460</td>\n",
        "    </tr>\n",
        "    <tr>\n",
        "      <th>a20</th>\n",
        "      <td>0.000243</td>\n",
        "      <td>0.000312</td>\n",
        "      <td>0.000349</td>\n",
        "      <td>0.000319</td>\n",
        "      <td>0.000314</td>\n",
        "      <td>0.000232</td>\n",
        "    </tr>\n",
        "    <tr>\n",
        "      <th>a45</th>\n",
        "      <td>0.000178</td>\n",
        "      <td>0.000208</td>\n",
        "      <td>0.000122</td>\n",
        "      <td>0.000212</td>\n",
        "      <td>0.000203</td>\n",
        "      <td>0.000221</td>\n",
        "    </tr>\n",
        "  </tbody>\n",
        "</table>\n",
        "</div>"
       ],
       "metadata": {},
       "output_type": "pyout",
       "prompt_number": 11,
       "text": [
        "            0         1         2         3         4         5\n",
        "a0   0.000338  0.000330  0.000538  0.000505  0.000381  0.000328\n",
        "a1   0.000367  0.000379  0.000330  0.000372  0.000415  0.000270\n",
        "a5   0.000505  0.000465  0.000502  0.000473  0.000418  0.000493\n",
        "a10  0.000521  0.000550  0.000538  0.000629  0.000478  0.000460\n",
        "a20  0.000243  0.000312  0.000349  0.000319  0.000314  0.000232\n",
        "a45  0.000178  0.000208  0.000122  0.000212  0.000203  0.000221"
       ]
      },
      {
       "metadata": {},
       "output_type": "display_data",
       "png": "[encoded data removed]",
       "text": [
        "<matplotlib.figure.Figure at 0x729de90>"
       ]
      }
     ],
     "prompt_number": 11
    },
    {
     "cell_type": "markdown",
     "metadata": {},
     "source": [
      "<h1>Creating an instance from an existing instance</h1>"
     ]
    },
    {
     "cell_type": "code",
     "collapsed": false,
     "input": [
      "y2 = readers.MassSpecReader(y, verbose=False)"
     ],
     "language": "python",
     "metadata": {},
     "outputs": [],
     "prompt_number": 12
    },
    {
     "cell_type": "code",
     "collapsed": false,
     "input": [
      "y2 == y"
     ],
     "language": "python",
     "metadata": {},
     "outputs": [
      {
       "metadata": {},
       "output_type": "pyout",
       "prompt_number": 13,
       "text": [
        "True"
       ]
      }
     ],
     "prompt_number": 13
    },
    {
     "cell_type": "markdown",
     "metadata": {},
     "source": [
      "<h1>Reading data with empty instance of MassSpecReader</h1>"
     ]
    },
    {
     "cell_type": "code",
     "collapsed": false,
     "input": [
      "y3 = readers.MassSpecReader(verbose=True)\n",
      "filename = yeast.get_yeast_small_data()\n",
      "y3.read_csv(filename)"
     ],
     "language": "python",
     "metadata": {},
     "outputs": [
      {
       "output_type": "stream",
       "stream": "stderr",
       "text": [
        "INFO:root:Reading /home/cokelaer/Work/github/msdas/share/data/YEAST_small_all.csv\n"
       ]
      }
     ],
     "prompt_number": 14
    },
    {
     "cell_type": "code",
     "collapsed": false,
     "input": [
      "y3 == y"
     ],
     "language": "python",
     "metadata": {},
     "outputs": [
      {
       "metadata": {},
       "output_type": "pyout",
       "prompt_number": 15,
       "text": [
        "False"
       ]
      }
     ],
     "prompt_number": 15
    },
    {
     "cell_type": "markdown",
     "metadata": {},
     "source": [
      "Here, the data read using the function read_csv seems to be different. Indeed, when reading a file normally, the cleanup function is called automatically. So, you have to call the cleanup function manually:\n"
     ]
    },
    {
     "cell_type": "code",
     "collapsed": false,
     "input": [
      "y3.cleanup()"
     ],
     "language": "python",
     "metadata": {},
     "outputs": [
      {
       "output_type": "stream",
       "stream": "stderr",
       "text": [
        "INFO:root:Renaming psites with ^ character\n"
       ]
      },
      {
       "output_type": "stream",
       "stream": "stderr",
       "text": [
        "INFO:root:Replacing zeros with NAs\n"
       ]
      },
      {
       "output_type": "stream",
       "stream": "stderr",
       "text": [
        "INFO:root:-- Removing 0 rows with ambigous protein names:\n"
       ]
      },
      {
       "output_type": "stream",
       "stream": "stderr",
       "text": [
        "INFO:root:--------------------------------------------------\n"
       ]
      },
      {
       "output_type": "stream",
       "stream": "stderr",
       "text": [
        "WARNING:root:Rebuilding identifier in the dataframe. MERGED prefixes will be lost\n"
       ]
      }
     ],
     "prompt_number": 16
    },
    {
     "cell_type": "code",
     "collapsed": false,
     "input": [
      "y3 == y"
     ],
     "language": "python",
     "metadata": {},
     "outputs": [
      {
       "metadata": {},
       "output_type": "pyout",
       "prompt_number": 17,
       "text": [
        "True"
       ]
      }
     ],
     "prompt_number": 17
    },
    {
     "cell_type": "code",
     "collapsed": false,
     "input": [],
     "language": "python",
     "metadata": {},
     "outputs": []
    }
   ],
   "metadata": {}
  }
 ]
}