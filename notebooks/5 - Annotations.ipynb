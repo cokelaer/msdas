{
 "metadata": {
  "name": "",
  "signature": "sha256:6a771649f1afd062db8bcc6a88e6e62b64a172b9d3c2bcc2c765dbd32a8593d0"
 },
 "nbformat": 3,
 "nbformat_minor": 0,
 "worksheets": [
  {
   "cells": [
    {
     "cell_type": "code",
     "collapsed": false,
     "input": [
      "from msdas import *\n",
      "%pylab inline\n",
      "reload(annotations)"
     ],
     "language": "python",
     "metadata": {},
     "outputs": [
      {
       "output_type": "stream",
       "stream": "stdout",
       "text": [
        "Couldn't import dot_parser, loading of dot files will not be possible.\n",
        "Populating the interactive namespace from numpy and matplotlib"
       ]
      },
      {
       "output_type": "stream",
       "stream": "stdout",
       "text": [
        "\n"
       ]
      },
      {
       "metadata": {},
       "output_type": "pyout",
       "prompt_number": 1,
       "text": [
        "<module 'msdas.annotations' from '/home/cokelaer/Work/github/msdas/src/msdas/annotations.pyc'>"
       ]
      }
     ],
     "prompt_number": 1
    },
    {
     "cell_type": "markdown",
     "metadata": {},
     "source": [
      "<h2>Introduction</h2>\n",
      "\n",
      "<p>When reading an input file, the Entry and Entry_name may not be set at all.\n",
      "Besides, full sequence, go terms are not necesseraly provided. \n",
      "We retrieve uniprot entry names and all annotations within the annotations module</p>"
     ]
    },
    {
     "cell_type": "code",
     "collapsed": false,
     "input": [
      "filename = yeast.get_yeast_filenames()[0]\n",
      "r = readers.MassSpecReader(filename)"
     ],
     "language": "python",
     "metadata": {},
     "outputs": [
      {
       "output_type": "stream",
       "stream": "stderr",
       "text": [
        "INFO:root:Reading /home/cokelaer/Work/github/msdas/share/data/alpha0.csv\n"
       ]
      },
      {
       "output_type": "stream",
       "stream": "stderr",
       "text": [
        "WARNING:root:Some Phospho strings found in Sequence column. No Sequence_Phospho column found.Renaming Sequence into Sequence_Phospho\n"
       ]
      },
      {
       "output_type": "stream",
       "stream": "stderr",
       "text": [
        "INFO:root:Renaming psites with ^ character\n"
       ]
      },
      {
       "output_type": "stream",
       "stream": "stderr",
       "text": [
        "INFO:root:Replacing zeros with NAs\n"
       ]
      },
      {
       "output_type": "stream",
       "stream": "stderr",
       "text": [
        "INFO:root:-- Removing 0 rows with ambigous protein names:\n"
       ]
      },
      {
       "output_type": "stream",
       "stream": "stderr",
       "text": [
        "INFO:root:--------------------------------------------------\n"
       ]
      },
      {
       "output_type": "stream",
       "stream": "stderr",
       "text": [
        "WARNING:root:Rebuilding identifier in the dataframe. MERGED prefixes will be lost\n"
       ]
      }
     ],
     "prompt_number": 2
    },
    {
     "cell_type": "markdown",
     "metadata": {},
     "source": [
      "Right now, this dataframe/MassSpecReader contains the data and some metadata but no information such as UniProt entry. \n",
      "Besides, GO terms and uniprot intact information could be retrieved from UniProt. The annotations module provides tools to automatically fetch this kind of information.\n",
      "\n",
      "The input can be a filename or an existing MassSpecReader"
     ]
    },
    {
     "cell_type": "code",
     "collapsed": false,
     "input": [
      "a = annotations.Annotations(r, \"YEAST\", verbose=True)"
     ],
     "language": "python",
     "metadata": {},
     "outputs": [
      {
       "output_type": "stream",
       "stream": "stderr",
       "text": [
        "INFO:root:Renaming psites with ^ character\n"
       ]
      },
      {
       "output_type": "stream",
       "stream": "stderr",
       "text": [
        "INFO:root:Replacing zeros with NAs\n"
       ]
      },
      {
       "output_type": "stream",
       "stream": "stderr",
       "text": [
        "INFO:root:-- Removing 0 rows with ambigous protein names:\n"
       ]
      },
      {
       "output_type": "stream",
       "stream": "stderr",
       "text": [
        "INFO:root:--------------------------------------------------\n"
       ]
      },
      {
       "output_type": "stream",
       "stream": "stderr",
       "text": [
        "WARNING:root:Rebuilding identifier in the dataframe. MERGED prefixes will be lost\n"
       ]
      },
      {
       "output_type": "stream",
       "stream": "stderr",
       "text": [
        "WARNING:root:Entry column not found in the dataframe. call get_uniprot_entries\n"
       ]
      },
      {
       "output_type": "stream",
       "stream": "stderr",
       "text": [
        "INFO:root:Initialising UniProt service (REST)\n"
       ]
      }
     ],
     "prompt_number": 3
    },
    {
     "cell_type": "code",
     "collapsed": false,
     "input": [
      "a.annotations #empty for now"
     ],
     "language": "python",
     "metadata": {},
     "outputs": [],
     "prompt_number": 4
    },
    {
     "cell_type": "code",
     "collapsed": false,
     "input": [
      "a._mapping # empty for now"
     ],
     "language": "python",
     "metadata": {},
     "outputs": [
      {
       "metadata": {},
       "output_type": "pyout",
       "prompt_number": 5,
       "text": [
        "{}"
       ]
      }
     ],
     "prompt_number": 5
    },
    {
     "cell_type": "code",
     "collapsed": false,
     "input": [
      "a.get_uniprot_entries()   # need a network connection. May take some seconds"
     ],
     "language": "python",
     "metadata": {},
     "outputs": [
      {
       "output_type": "stream",
       "stream": "stderr",
       "text": [
        "INFO:root:Fetching uniprot accession numbers for 57 entries\n"
       ]
      },
      {
       "output_type": "stream",
       "stream": "stderr",
       "text": [
        "INFO:root:Fetching uniprot accession numbers for 23 unique entries\n"
       ]
      },
      {
       "output_type": "stream",
       "stream": "stderr",
       "text": [
        "WARNING:root:deprecated in version 1.3.1. Use mapping instead\n"
       ]
      },
      {
       "output_type": "stream",
       "stream": "stderr",
       "text": [
        "INFO:root:getUserAgent: Begin\n"
       ]
      },
      {
       "output_type": "stream",
       "stream": "stderr",
       "text": [
        "INFO:root:getUserAgent: user_agent: EBI-Sample-Client/ (services.pyc; Python 2.7.3; Linux) Python-requests/2.7.0\n"
       ]
      },
      {
       "output_type": "stream",
       "stream": "stderr",
       "text": [
        "INFO:root:getUserAgent: End\n"
       ]
      },
      {
       "output_type": "stream",
       "stream": "stderr",
       "text": [
        "INFO:requests.packages.urllib3.connectionpool:Starting new HTTP connection (1): www.uniprot.org\n"
       ]
      }
     ],
     "prompt_number": 6
    },
    {
     "cell_type": "code",
     "collapsed": false,
     "input": [
      "a._mapping"
     ],
     "language": "python",
     "metadata": {},
     "outputs": [
      {
       "metadata": {},
       "output_type": "pyout",
       "prompt_number": 7,
       "text": [
        "{u'DIG1_YEAST': [u'Q03063'],\n",
        " u'DIG2_YEAST': [u'Q03373'],\n",
        " u'FAR1_YEAST': [u'P21268'],\n",
        " u'FPS1_YEAST': [u'P23900'],\n",
        " u'FUS3_YEAST': [u'P16892'],\n",
        " u'GPA1_YEAST': [u'P08539'],\n",
        " u'GPD1_YEAST': [u'Q00055'],\n",
        " u'HOG1_YEAST': [u'P32485'],\n",
        " u'HOT1_YEAST': [u'Q03213'],\n",
        " u'PBS2_YEAST': [u'P08018'],\n",
        " u'PTP2_YEAST': [u'P29461'],\n",
        " u'RCK2_YEAST': [u'P38623'],\n",
        " u'SIC1_YEAST': [u'P38634'],\n",
        " u'SKO1_YEAST': [u'Q02100'],\n",
        " u'SLN1_YEAST': [u'P39928'],\n",
        " u'SSK1_YEAST': [u'Q07084'],\n",
        " u'SSK2_YEAST': [u'P53599'],\n",
        " u'STE11_YEAST': [u'P23561'],\n",
        " u'STE12_YEAST': [u'P13574'],\n",
        " u'STE20_YEAST': [u'Q03497'],\n",
        " u'STE2_YEAST': [u'D6VTK4'],\n",
        " u'STE50_YEAST': [u'P25344'],\n",
        " u'TEC1_YEAST': [u'P18412']}"
       ]
      }
     ],
     "prompt_number": 7
    },
    {
     "cell_type": "code",
     "collapsed": false,
     "input": [
      "a.df[['Protein', 'Psite', 'Entry']].ix[0:10]"
     ],
     "language": "python",
     "metadata": {},
     "outputs": [
      {
       "html": [
        "<div style=\"max-height:1000px;max-width:1500px;overflow:auto;\">\n",
        "<table border=\"1\" class=\"dataframe\">\n",
        "  <thead>\n",
        "    <tr style=\"text-align: right;\">\n",
        "      <th></th>\n",
        "      <th>Protein</th>\n",
        "      <th>Psite</th>\n",
        "      <th>Entry</th>\n",
        "    </tr>\n",
        "  </thead>\n",
        "  <tbody>\n",
        "    <tr>\n",
        "      <th>0</th>\n",
        "      <td>DIG1</td>\n",
        "      <td>S126+S127</td>\n",
        "      <td>Q03063</td>\n",
        "    </tr>\n",
        "    <tr>\n",
        "      <th>1</th>\n",
        "      <td>DIG1</td>\n",
        "      <td>S142</td>\n",
        "      <td>Q03063</td>\n",
        "    </tr>\n",
        "    <tr>\n",
        "      <th>2</th>\n",
        "      <td>DIG1</td>\n",
        "      <td>S272</td>\n",
        "      <td>Q03063</td>\n",
        "    </tr>\n",
        "    <tr>\n",
        "      <th>3</th>\n",
        "      <td>DIG1</td>\n",
        "      <td>S272^S275</td>\n",
        "      <td>Q03063</td>\n",
        "    </tr>\n",
        "    <tr>\n",
        "      <th>4</th>\n",
        "      <td>DIG1</td>\n",
        "      <td>S272^T277^S279</td>\n",
        "      <td>Q03063</td>\n",
        "    </tr>\n",
        "    <tr>\n",
        "      <th>5</th>\n",
        "      <td>DIG1</td>\n",
        "      <td>S330</td>\n",
        "      <td>Q03063</td>\n",
        "    </tr>\n",
        "    <tr>\n",
        "      <th>6</th>\n",
        "      <td>DIG1</td>\n",
        "      <td>S395</td>\n",
        "      <td>Q03063</td>\n",
        "    </tr>\n",
        "    <tr>\n",
        "      <th>7</th>\n",
        "      <td>DIG2</td>\n",
        "      <td>S225</td>\n",
        "      <td>Q03373</td>\n",
        "    </tr>\n",
        "    <tr>\n",
        "      <th>8</th>\n",
        "      <td>DIG2</td>\n",
        "      <td>S84</td>\n",
        "      <td>Q03373</td>\n",
        "    </tr>\n",
        "    <tr>\n",
        "      <th>9</th>\n",
        "      <td>DIG2</td>\n",
        "      <td>T83</td>\n",
        "      <td>Q03373</td>\n",
        "    </tr>\n",
        "    <tr>\n",
        "      <th>10</th>\n",
        "      <td>FAR1</td>\n",
        "      <td>S114</td>\n",
        "      <td>P21268</td>\n",
        "    </tr>\n",
        "  </tbody>\n",
        "</table>\n",
        "</div>"
       ],
       "metadata": {},
       "output_type": "pyout",
       "prompt_number": 8,
       "text": [
        "   Protein           Psite   Entry\n",
        "0     DIG1       S126+S127  Q03063\n",
        "1     DIG1            S142  Q03063\n",
        "2     DIG1            S272  Q03063\n",
        "3     DIG1       S272^S275  Q03063\n",
        "4     DIG1  S272^T277^S279  Q03063\n",
        "5     DIG1            S330  Q03063\n",
        "6     DIG1            S395  Q03063\n",
        "7     DIG2            S225  Q03373\n",
        "8     DIG2             S84  Q03373\n",
        "9     DIG2             T83  Q03373\n",
        "10    FAR1            S114  P21268"
       ]
      }
     ],
     "prompt_number": 8
    },
    {
     "cell_type": "code",
     "collapsed": false,
     "input": [],
     "language": "python",
     "metadata": {},
     "outputs": [],
     "prompt_number": 8
    },
    {
     "cell_type": "code",
     "collapsed": false,
     "input": [
      "a.set_annotations()"
     ],
     "language": "python",
     "metadata": {},
     "outputs": [
      {
       "output_type": "stream",
       "stream": "stderr",
       "text": [
        "INFO:root:Fectching information from uniprot. Takes some time\n"
       ]
      },
      {
       "output_type": "stream",
       "stream": "stderr",
       "text": [
        "INFO:root:fetching information from uniprot for 23 entries\n"
       ]
      },
      {
       "output_type": "stream",
       "stream": "stderr",
       "text": [
        "INFO:root:uniprot.get_df 1/1\n"
       ]
      },
      {
       "output_type": "stream",
       "stream": "stderr",
       "text": [
        "WARNING:root:column could not be parsed. Protein families\n"
       ]
      },
      {
       "output_type": "stream",
       "stream": "stderr",
       "text": [
        "WARNING:root:column could not be parsed. interactor\n"
       ]
      },
      {
       "output_type": "stream",
       "stream": "stderr",
       "text": [
        "WARNING:root:column could not be parsed. Subcellular location\n"
       ]
      },
      {
       "output_type": "stream",
       "stream": "stderr",
       "text": [
        "INFO:root:Fectching 23\n"
       ]
      },
      {
       "output_type": "stream",
       "stream": "stderr",
       "text": [
        "INFO:root:Annotations have been loaded. You can save the annotations dataframe attribute using x.to_pickle('annotations.pkl')  Next time, you could just load if using \n",
        "\n",
        "     >>> m = readers.MassSpecReader(filename, mode='yeast')\n",
        "     >>>  m.read_annotations('annotations.pkl')\n"
       ]
      }
     ],
     "prompt_number": 9
    },
    {
     "cell_type": "code",
     "collapsed": false,
     "input": [
      "a.df[['Protein', 'Psite', 'Entry']].ix[0:10]"
     ],
     "language": "python",
     "metadata": {},
     "outputs": [
      {
       "html": [
        "<div style=\"max-height:1000px;max-width:1500px;overflow:auto;\">\n",
        "<table border=\"1\" class=\"dataframe\">\n",
        "  <thead>\n",
        "    <tr style=\"text-align: right;\">\n",
        "      <th></th>\n",
        "      <th>Protein</th>\n",
        "      <th>Psite</th>\n",
        "      <th>Entry</th>\n",
        "    </tr>\n",
        "  </thead>\n",
        "  <tbody>\n",
        "    <tr>\n",
        "      <th>0</th>\n",
        "      <td>DIG1</td>\n",
        "      <td>S126+S127</td>\n",
        "      <td>Q03063</td>\n",
        "    </tr>\n",
        "    <tr>\n",
        "      <th>1</th>\n",
        "      <td>DIG1</td>\n",
        "      <td>S142</td>\n",
        "      <td>Q03063</td>\n",
        "    </tr>\n",
        "    <tr>\n",
        "      <th>2</th>\n",
        "      <td>DIG1</td>\n",
        "      <td>S272</td>\n",
        "      <td>Q03063</td>\n",
        "    </tr>\n",
        "    <tr>\n",
        "      <th>3</th>\n",
        "      <td>DIG1</td>\n",
        "      <td>S272^S275</td>\n",
        "      <td>Q03063</td>\n",
        "    </tr>\n",
        "    <tr>\n",
        "      <th>4</th>\n",
        "      <td>DIG1</td>\n",
        "      <td>S272^T277^S279</td>\n",
        "      <td>Q03063</td>\n",
        "    </tr>\n",
        "    <tr>\n",
        "      <th>5</th>\n",
        "      <td>DIG1</td>\n",
        "      <td>S330</td>\n",
        "      <td>Q03063</td>\n",
        "    </tr>\n",
        "    <tr>\n",
        "      <th>6</th>\n",
        "      <td>DIG1</td>\n",
        "      <td>S395</td>\n",
        "      <td>Q03063</td>\n",
        "    </tr>\n",
        "    <tr>\n",
        "      <th>7</th>\n",
        "      <td>DIG2</td>\n",
        "      <td>S225</td>\n",
        "      <td>Q03373</td>\n",
        "    </tr>\n",
        "    <tr>\n",
        "      <th>8</th>\n",
        "      <td>DIG2</td>\n",
        "      <td>S84</td>\n",
        "      <td>Q03373</td>\n",
        "    </tr>\n",
        "    <tr>\n",
        "      <th>9</th>\n",
        "      <td>DIG2</td>\n",
        "      <td>T83</td>\n",
        "      <td>Q03373</td>\n",
        "    </tr>\n",
        "    <tr>\n",
        "      <th>10</th>\n",
        "      <td>FAR1</td>\n",
        "      <td>S114</td>\n",
        "      <td>P21268</td>\n",
        "    </tr>\n",
        "  </tbody>\n",
        "</table>\n",
        "</div>"
       ],
       "metadata": {},
       "output_type": "pyout",
       "prompt_number": 10,
       "text": [
        "   Protein           Psite   Entry\n",
        "0     DIG1       S126+S127  Q03063\n",
        "1     DIG1            S142  Q03063\n",
        "2     DIG1            S272  Q03063\n",
        "3     DIG1       S272^S275  Q03063\n",
        "4     DIG1  S272^T277^S279  Q03063\n",
        "5     DIG1            S330  Q03063\n",
        "6     DIG1            S395  Q03063\n",
        "7     DIG2            S225  Q03373\n",
        "8     DIG2             S84  Q03373\n",
        "9     DIG2             T83  Q03373\n",
        "10    FAR1            S114  P21268"
       ]
      }
     ],
     "prompt_number": 10
    }
   ],
   "metadata": {}
  }
 ]
}