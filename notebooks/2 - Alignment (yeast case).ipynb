{
 "metadata": {
  "name": "",
  "signature": "sha256:eb017b437d21cd2c0060074de2bb8946bfd0a7c42080c65887ff8ee23a9fa904"
 },
 "nbformat": 3,
 "nbformat_minor": 0,
 "worksheets": [
  {
   "cells": [
    {
     "cell_type": "markdown",
     "metadata": {},
     "source": [
      "<h1>Reading several files: alignement (e.g, YEAST case)</h1>\n",
      "<p> In this tutorial, we show how to read several data sets and save the results in a unique file</p>\n",
      "<p>In the YEAST case, we have 36 experiments stored in 6 files called alpha0, alpha1, alpha5 , alpha10, alpha20, alpha45</p>\n",
      "<p>We first want to read all all them and build a unique dataframe. This can be done using the class called <b>MassSpecAlignmentYeast</b></p>"
     ]
    },
    {
     "cell_type": "code",
     "collapsed": false,
     "input": [
      "%pylab inline\n",
      "from msdas import *\n",
      "from msdas import yeast\n"
     ],
     "language": "python",
     "metadata": {},
     "outputs": [
      {
       "output_type": "stream",
       "stream": "stdout",
       "text": [
        "Populating the interactive namespace from numpy and matplotlib\n",
        "Couldn't import dot_parser, loading of dot files will not be possible."
       ]
      },
      {
       "output_type": "stream",
       "stream": "stdout",
       "text": [
        "\n"
       ]
      }
     ],
     "prompt_number": 1
    },
    {
     "cell_type": "markdown",
     "metadata": {},
     "source": [
      "<p>By default if you read a file called alpha, columns with measurements are renamed with the filename. E.g., a column called t0 is renamed as alpha0_t0. This is to avoid issue with identical names over several files (t0 may appear in all files). If you have specific prefixes to append, they can be provided like in the following examples.</p> "
     ]
    },
    {
     "cell_type": "code",
     "collapsed": false,
     "input": [
      "filenames = yeast.get_yeast_filenames()"
     ],
     "language": "python",
     "metadata": {},
     "outputs": [],
     "prompt_number": 2
    },
    {
     "cell_type": "code",
     "collapsed": false,
     "input": [
      "import pandas as pd\n",
      "df1 = pd.read_csv(filenames[0])\n",
      "df2 = pd.read_csv(filenames[1])\n",
      "df1.columns"
     ],
     "language": "python",
     "metadata": {},
     "outputs": [
      {
       "metadata": {},
       "output_type": "pyout",
       "prompt_number": 3,
       "text": [
        "Index([u'Protein', u' Psite', u' Sequence', u' t0', u' t1', u' t5', u' t10',\n",
        "       u' t20', u' t45'],\n",
        "      dtype='object')"
       ]
      }
     ],
     "prompt_number": 3
    },
    {
     "cell_type": "code",
     "collapsed": false,
     "input": [
      "df2.columns"
     ],
     "language": "python",
     "metadata": {},
     "outputs": [
      {
       "metadata": {},
       "output_type": "pyout",
       "prompt_number": 4,
       "text": [
        "Index([u'Protein', u' Psite', u' Sequence', u' t0', u' t1', u' t5', u' t10',\n",
        "       u' t20', u' t45'],\n",
        "      dtype='object')"
       ]
      }
     ],
     "prompt_number": 4
    },
    {
     "cell_type": "code",
     "collapsed": false,
     "input": [
      "m = MassSpecAlignmentYeast(filenames, prefixes=[\"a0\", \"a1\", \"a5\", \"a10\", \"a20\", \"a45\"], verbose=False)"
     ],
     "language": "python",
     "metadata": {},
     "outputs": [],
     "prompt_number": 5
    },
    {
     "cell_type": "markdown",
     "metadata": {},
     "source": [
      "We have merger the 6 yeast data sets altogether. The data is now available as a dataframe inside m.df\n"
     ]
    },
    {
     "cell_type": "code",
     "collapsed": false,
     "input": [
      "m.df.ix[0:3]"
     ],
     "language": "python",
     "metadata": {},
     "outputs": [
      {
       "html": [
        "<div style=\"max-height:1000px;max-width:1500px;overflow:auto;\">\n",
        "<table border=\"1\" class=\"dataframe\">\n",
        "  <thead>\n",
        "    <tr style=\"text-align: right;\">\n",
        "      <th></th>\n",
        "      <th>Protein</th>\n",
        "      <th>Sequence</th>\n",
        "      <th>Psite</th>\n",
        "      <th>Sequence_Phospho</th>\n",
        "      <th>a0_t0</th>\n",
        "      <th>a0_t1</th>\n",
        "      <th>a0_t5</th>\n",
        "      <th>a0_t10</th>\n",
        "      <th>a0_t20</th>\n",
        "      <th>a0_t45</th>\n",
        "      <th>...</th>\n",
        "      <th>a20_t5</th>\n",
        "      <th>a20_t10</th>\n",
        "      <th>a20_t20</th>\n",
        "      <th>a20_t45</th>\n",
        "      <th>a45_t0</th>\n",
        "      <th>a45_t1</th>\n",
        "      <th>a45_t5</th>\n",
        "      <th>a45_t10</th>\n",
        "      <th>a45_t20</th>\n",
        "      <th>a45_t45</th>\n",
        "    </tr>\n",
        "  </thead>\n",
        "  <tbody>\n",
        "    <tr>\n",
        "      <th>0</th>\n",
        "      <td>DIG1</td>\n",
        "      <td>DGNLASSNSAHFPPVANQNVK</td>\n",
        "      <td>S126+S127</td>\n",
        "      <td>DGNLAS(Phospho)SNSAHFPPVANQNVK</td>\n",
        "      <td>0.00041509</td>\n",
        "      <td>0.00039651</td>\n",
        "      <td>0.0006711</td>\n",
        "      <td>0.00060249</td>\n",
        "      <td>0.00043997</td>\n",
        "      <td>0.00041787</td>\n",
        "      <td>...</td>\n",
        "      <td>0.001149</td>\n",
        "      <td>0.000917</td>\n",
        "      <td>0.000902</td>\n",
        "      <td>0.001009</td>\n",
        "      <td>0.00028876</td>\n",
        "      <td>0.0003</td>\n",
        "      <td>0.00027013</td>\n",
        "      <td>0.00035849</td>\n",
        "      <td>0.00036712</td>\n",
        "      <td>0.00031307</td>\n",
        "    </tr>\n",
        "    <tr>\n",
        "      <th>1</th>\n",
        "      <td>DIG1</td>\n",
        "      <td>SAPAQVTQHSK</td>\n",
        "      <td>S142</td>\n",
        "      <td>S(Phospho)APAQVTQHSK</td>\n",
        "      <td>0.00018739</td>\n",
        "      <td>0.00018479</td>\n",
        "      <td>0.0002666</td>\n",
        "      <td>0.00020245</td>\n",
        "      <td>0.00013835</td>\n",
        "      <td>0.00022575</td>\n",
        "      <td>...</td>\n",
        "      <td>0.001135</td>\n",
        "      <td>0.000899</td>\n",
        "      <td>0.001064</td>\n",
        "      <td>0.001241</td>\n",
        "      <td>0.0011441</td>\n",
        "      <td>0.0013638</td>\n",
        "      <td>0.0012374</td>\n",
        "      <td>0.001091</td>\n",
        "      <td>0.0014252</td>\n",
        "      <td>0.001707</td>\n",
        "    </tr>\n",
        "    <tr>\n",
        "      <th>2</th>\n",
        "      <td>DIG1</td>\n",
        "      <td>VNDSYDSPLSGTASTGK</td>\n",
        "      <td>S272</td>\n",
        "      <td>VNDSYDS(Phospho)PLSGTASTGK</td>\n",
        "      <td>0.00033752</td>\n",
        "      <td>0.0003301</td>\n",
        "      <td>0.00053798</td>\n",
        "      <td>0.00050547</td>\n",
        "      <td>0.00038083</td>\n",
        "      <td>0.00032833</td>\n",
        "      <td>...</td>\n",
        "      <td>0.000349</td>\n",
        "      <td>0.000319</td>\n",
        "      <td>0.000314</td>\n",
        "      <td>0.000232</td>\n",
        "      <td>0.0001779</td>\n",
        "      <td>0.000208</td>\n",
        "      <td>0.000122</td>\n",
        "      <td>0.00021177</td>\n",
        "      <td>0.00020337</td>\n",
        "      <td>0.0002206</td>\n",
        "    </tr>\n",
        "    <tr>\n",
        "      <th>3</th>\n",
        "      <td>DIG1</td>\n",
        "      <td>VNDSYDSPLSGTASTGK</td>\n",
        "      <td>S272^S275</td>\n",
        "      <td>VNDSYDS(Phospho)PLS(Phospho)GTASTGK</td>\n",
        "      <td>4.23e-05</td>\n",
        "      <td>4.7e-05</td>\n",
        "      <td>7.84e-05</td>\n",
        "      <td>4.92e-05</td>\n",
        "      <td>4.16e-05</td>\n",
        "      <td>3.58e-05</td>\n",
        "      <td>...</td>\n",
        "      <td>0.000104</td>\n",
        "      <td>0.000075</td>\n",
        "      <td>0.000063</td>\n",
        "      <td>0.000061</td>\n",
        "      <td>6.4e-05</td>\n",
        "      <td>6.61e-05</td>\n",
        "      <td>7.44e-05</td>\n",
        "      <td>6.63e-05</td>\n",
        "      <td>6.18e-05</td>\n",
        "      <td>5.05e-05</td>\n",
        "    </tr>\n",
        "  </tbody>\n",
        "</table>\n",
        "<p>4 rows \u00d7 40 columns</p>\n",
        "</div>"
       ],
       "metadata": {},
       "output_type": "pyout",
       "prompt_number": 6,
       "text": [
        "  Protein               Sequence      Psite  \\\n",
        "0    DIG1  DGNLASSNSAHFPPVANQNVK  S126+S127   \n",
        "1    DIG1            SAPAQVTQHSK       S142   \n",
        "2    DIG1      VNDSYDSPLSGTASTGK       S272   \n",
        "3    DIG1      VNDSYDSPLSGTASTGK  S272^S275   \n",
        "\n",
        "                      Sequence_Phospho       a0_t0       a0_t1       a0_t5  \\\n",
        "0       DGNLAS(Phospho)SNSAHFPPVANQNVK  0.00041509  0.00039651   0.0006711   \n",
        "1                 S(Phospho)APAQVTQHSK  0.00018739  0.00018479   0.0002666   \n",
        "2           VNDSYDS(Phospho)PLSGTASTGK  0.00033752   0.0003301  0.00053798   \n",
        "3  VNDSYDS(Phospho)PLS(Phospho)GTASTGK    4.23e-05     4.7e-05    7.84e-05   \n",
        "\n",
        "       a0_t10      a0_t20      a0_t45     ...        a20_t5   a20_t10  \\\n",
        "0  0.00060249  0.00043997  0.00041787     ...      0.001149  0.000917   \n",
        "1  0.00020245  0.00013835  0.00022575     ...      0.001135  0.000899   \n",
        "2  0.00050547  0.00038083  0.00032833     ...      0.000349  0.000319   \n",
        "3    4.92e-05    4.16e-05    3.58e-05     ...      0.000104  0.000075   \n",
        "\n",
        "    a20_t20   a20_t45      a45_t0     a45_t1      a45_t5     a45_t10  \\\n",
        "0  0.000902  0.001009  0.00028876     0.0003  0.00027013  0.00035849   \n",
        "1  0.001064  0.001241   0.0011441  0.0013638   0.0012374    0.001091   \n",
        "2  0.000314  0.000232   0.0001779   0.000208    0.000122  0.00021177   \n",
        "3  0.000063  0.000061     6.4e-05   6.61e-05    7.44e-05    6.63e-05   \n",
        "\n",
        "      a45_t20     a45_t45  \n",
        "0  0.00036712  0.00031307  \n",
        "1   0.0014252    0.001707  \n",
        "2  0.00020337   0.0002206  \n",
        "3    6.18e-05    5.05e-05  \n",
        "\n",
        "[4 rows x 40 columns]"
       ]
      }
     ],
     "prompt_number": 6
    },
    {
     "cell_type": "code",
     "collapsed": false,
     "input": [
      "m.df.columns"
     ],
     "language": "python",
     "metadata": {},
     "outputs": [
      {
       "metadata": {},
       "output_type": "pyout",
       "prompt_number": 7,
       "text": [
        "Index([u'Protein', u'Sequence', u'Psite', u'Sequence_Phospho', u'a0_t0',\n",
        "       u'a0_t1', u'a0_t5', u'a0_t10', u'a0_t20', u'a0_t45', u'a1_t0', u'a1_t1',\n",
        "       u'a1_t5', u'a1_t10', u'a1_t20', u'a1_t45', u'a5_t0', u'a5_t1', u'a5_t5',\n",
        "       u'a5_t10', u'a5_t20', u'a5_t45', u'a10_t0', u'a10_t1', u'a10_t5',\n",
        "       u'a10_t10', u'a10_t20', u'a10_t45', u'a20_t0', u'a20_t1', u'a20_t5',\n",
        "       u'a20_t10', u'a20_t20', u'a20_t45', u'a45_t0', u'a45_t1', u'a45_t5',\n",
        "       u'a45_t10', u'a45_t20', u'a45_t45'],\n",
        "      dtype='object')"
       ]
      }
     ],
     "prompt_number": 7
    },
    {
     "cell_type": "code",
     "collapsed": false,
     "input": [
      "m.df.shape"
     ],
     "language": "python",
     "metadata": {},
     "outputs": [
      {
       "metadata": {},
       "output_type": "pyout",
       "prompt_number": 8,
       "text": [
        "(57, 40)"
       ]
      }
     ],
     "prompt_number": 8
    },
    {
     "cell_type": "code",
     "collapsed": false,
     "input": [
      "r = readers.MassSpecReader(m)\n",
      "from easydev import TempFile\n",
      "f = TempFile() # a temporary named file\n",
      "r.to_csv(f.name)\n",
      "f.delete()"
     ],
     "language": "python",
     "metadata": {},
     "outputs": [
      {
       "output_type": "stream",
       "stream": "stderr",
       "text": [
        "INFO:root:Renaming psites with ^ character\n"
       ]
      },
      {
       "output_type": "stream",
       "stream": "stderr",
       "text": [
        "INFO:root:Replacing zeros with NAs\n"
       ]
      },
      {
       "output_type": "stream",
       "stream": "stderr",
       "text": [
        "INFO:root:-- Removing 0 rows with ambigous protein names:\n"
       ]
      },
      {
       "output_type": "stream",
       "stream": "stderr",
       "text": [
        "INFO:root:--------------------------------------------------\n"
       ]
      },
      {
       "output_type": "stream",
       "stream": "stderr",
       "text": [
        "WARNING:root:Rebuilding identifier in the dataframe. MERGED prefixes will be lost\n"
       ]
      }
     ],
     "prompt_number": 9
    },
    {
     "cell_type": "code",
     "collapsed": false,
     "input": [
      "r.plot_phospho_stats()"
     ],
     "language": "python",
     "metadata": {},
     "outputs": [
      {
       "metadata": {},
       "output_type": "display_data",
       "png": "[encoded data removed]",
       "text": [
        "<matplotlib.figure.Figure at 0x70d5790>"
       ]
      },
      {
       "metadata": {},
       "output_type": "display_data",
       "png": "[encoded data removed]",
       "text": [
        "<matplotlib.figure.Figure at 0x7104650>"
       ]
      },
      {
       "metadata": {},
       "output_type": "display_data",
       "png": "[encoded data removed]",
       "text": [
        "<matplotlib.figure.Figure at 0x7249990>"
       ]
      }
     ],
     "prompt_number": 10
    }
   ],
   "metadata": {}
  }
 ]
}